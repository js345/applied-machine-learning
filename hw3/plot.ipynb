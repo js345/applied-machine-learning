{
 "cells": [
  {
   "cell_type": "code",
   "execution_count": 4,
   "metadata": {
    "collapsed": true
   },
   "outputs": [],
   "source": [
    "%matplotlib inline\n",
    "import pandas as pd\n",
    "import numpy as np\n",
    "import matplotlib.pyplot as plt\n",
    "from sklearn.decomposition import PCA\n",
    "from mpl_toolkits.mplot3d import Axes3D\n",
    "\n",
    "fig = plt.figure()\n",
    "ax = fig.add_subplot(111, projection='3d')\n",
    "def readTrainingData():\n",
    "    df = pd.read_csv(\"pubfig_dev_50000_pairs.txt\", sep=\"\\t\", skipinitialspace=True, skiprows=1, header=None)\n",
    "    return df\n",
    "\n",
    "def readValidationData(number):\n",
    "    path = \"pubfig_kaggle_\"+str(number)\n",
    "    feature = pd.read_csv(path+\".txt\", sep=\"\\t\", skipinitialspace=True, skiprows=2, header=None)\n",
    "    label = pd.read_csv(path+\"_solution.txt\", sep=\",\", skipinitialspace=True, skiprows=0)\n",
    "    return feature,label[\"Prediction\"]\n",
    "\n",
    "def readMatchingData():\n",
    "    df = pd.read_csv(\"pubfig_attributes.txt\", sep=\"\\t\", skipinitialspace=True, skiprows=2, header=None)\n",
    "    return df\n",
    "\n",
    "def readEvalData():\n",
    "    df = pd.read_csv(\"pubfig_kaggle_eval.txt\", sep=\"\\t\", skipinitialspace=True, skiprows=2, header=None)\n",
    "    return df\n",
    "\n",
    "def readEvalResult():\n",
    "    df = pd.read_csv(\"eval_solution.txt\", sep=\",\", skipinitialspace=True, skiprows=1, header=None)\n",
    "    return df"
   ]
  },
  {
   "cell_type": "code",
   "execution_count": 5,
   "metadata": {
    "collapsed": true
   },
   "outputs": [],
   "source": [
    "train = readTrainingData().as_matrix()\n",
    "trainX = train[:,1:]\n",
    "trainY = train[:,0]\n"
   ]
  },
  {
   "cell_type": "code",
   "execution_count": 7,
   "metadata": {
    "collapsed": false
   },
   "outputs": [
    {
     "data": {
      "text/plain": [
       "array([[1],\n",
       "       [2],\n",
       "       [3],\n",
       "       [4]])"
      ]
     },
     "execution_count": 7,
     "metadata": {},
     "output_type": "execute_result"
    }
   ],
   "source": [
    "import numpy as np\n",
    "a = np.array([1,2,3,4])\n",
    "a.reshape(a.size,1)"
   ]
  },
  {
   "cell_type": "code",
   "execution_count": null,
   "metadata": {
    "collapsed": true
   },
   "outputs": [],
   "source": []
  }
 ],
 "metadata": {
  "kernelspec": {
   "display_name": "Python 2",
   "language": "python",
   "name": "python2"
  },
  "language_info": {
   "codemirror_mode": {
    "name": "ipython",
    "version": 2
   },
   "file_extension": ".py",
   "mimetype": "text/x-python",
   "name": "python",
   "nbconvert_exporter": "python",
   "pygments_lexer": "ipython2",
   "version": "2.7.11"
  }
 },
 "nbformat": 4,
 "nbformat_minor": 0
}
