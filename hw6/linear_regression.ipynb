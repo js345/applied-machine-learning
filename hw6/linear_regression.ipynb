{
 "cells": [
  {
   "cell_type": "code",
   "execution_count": 1,
   "metadata": {
    "collapsed": false
   },
   "outputs": [],
   "source": [
    "from __future__ import division\n",
    "import numpy as np\n",
    "import matplotlib.pyplot as plt"
   ]
  },
  {
   "cell_type": "code",
   "execution_count": 2,
   "metadata": {
    "collapsed": false
   },
   "outputs": [],
   "source": [
    "data = np.loadtxt(\"./Geographical Original of Music/default_features_1059_tracks.txt\",delimiter=\",\",skiprows=0)\n",
    "num_row,num_feature = data.shape[0],data.shape[1]-2\n",
    "x = data[:,:num_feature]\n",
    "y = data[:,num_feature:]\n",
    "latitude = y[:,0]\n",
    "longitude = y[:,1]\n",
    "# add a column of ones to x\n",
    "x = np.append(x,np.ones((num_row,1)),axis=1)"
   ]
  },
  {
   "cell_type": "code",
   "execution_count": 3,
   "metadata": {
    "collapsed": false
   },
   "outputs": [],
   "source": [
    "# compute xT, xTx, (xTx)^-1\n",
    "x_t = np.transpose(x)\n",
    "xTx = x_t.dot(x)\n",
    "xTx_inv = np.linalg.inv(xTx)"
   ]
  },
  {
   "cell_type": "code",
   "execution_count": 4,
   "metadata": {
    "collapsed": true
   },
   "outputs": [],
   "source": [
    "# compute estimate of beta resp latitude\n",
    "beta = xTx_inv.dot(x_t).dot(latitude)"
   ]
  },
  {
   "cell_type": "code",
   "execution_count": 5,
   "metadata": {
    "collapsed": false
   },
   "outputs": [
    {
     "data": {
      "text/plain": [
       "array([ -1.17381660e-11,   1.33582034e-12,  -3.63797881e-12,\n",
       "         4.54747351e-12,  -3.63797881e-12,   5.99698069e-12,\n",
       "        -1.81898940e-12,   4.54747351e-13,   5.45696821e-12,\n",
       "         2.27373675e-12,   6.82121026e-12,   2.95585778e-12,\n",
       "        -1.59161573e-12,   2.04636308e-12,   5.45696821e-12,\n",
       "        -2.72848411e-12,  -6.13198381e-12,   1.31876732e-11,\n",
       "         1.09139364e-11,  -9.09494702e-13,   5.45696821e-12,\n",
       "         6.36646291e-12,   1.45519152e-11,   8.18545232e-12,\n",
       "         9.09494702e-12,   2.72848411e-12,   7.27595761e-12,\n",
       "         1.22781785e-11,   7.73070497e-12,   6.82121026e-12,\n",
       "         7.95807864e-12,   4.54747351e-12,   1.18234311e-11,\n",
       "         7.27595761e-12,   1.36424205e-12,   7.27595761e-12,\n",
       "        -9.09494702e-13,   2.72848411e-12,   4.09272616e-12,\n",
       "         7.73070497e-12,  -2.72848411e-12,  -2.27373675e-13,\n",
       "         2.27373675e-12,   5.00222086e-12,   1.81898940e-12,\n",
       "         6.82121026e-12,   3.41060513e-12,   4.09272616e-12,\n",
       "         5.00222086e-12,   1.36424205e-12,   9.09494702e-13,\n",
       "         1.18234311e-11,   2.36468622e-11,   9.09494702e-13,\n",
       "        -4.54747351e-13,   0.00000000e+00,   1.18234311e-11,\n",
       "         7.27595761e-12,   1.70530257e-12,  -1.36424205e-12,\n",
       "         5.11590770e-12,   7.95807864e-12,   7.84439180e-12,\n",
       "         5.81223958e-12,   7.73070497e-12,   6.13908924e-12,\n",
       "         7.38964445e-12,   7.56017471e-12,  -8.00355338e-11])"
      ]
     },
     "execution_count": 5,
     "metadata": {},
     "output_type": "execute_result"
    }
   ],
   "source": [
    "xTx.dot(beta) - x_t.dot(latitude)"
   ]
  },
  {
   "cell_type": "code",
   "execution_count": 6,
   "metadata": {
    "collapsed": false
   },
   "outputs": [
    {
     "data": {
      "text/plain": [
       "(69,)"
      ]
     },
     "execution_count": 6,
     "metadata": {},
     "output_type": "execute_result"
    }
   ],
   "source": [
    "beta.shape"
   ]
  },
  {
   "cell_type": "code",
   "execution_count": null,
   "metadata": {
    "collapsed": true
   },
   "outputs": [],
   "source": []
  }
 ],
 "metadata": {
  "kernelspec": {
   "display_name": "Python 2",
   "language": "python",
   "name": "python2"
  },
  "language_info": {
   "codemirror_mode": {
    "name": "ipython",
    "version": 2
   },
   "file_extension": ".py",
   "mimetype": "text/x-python",
   "name": "python",
   "nbconvert_exporter": "python",
   "pygments_lexer": "ipython2",
   "version": "2.7.11"
  }
 },
 "nbformat": 4,
 "nbformat_minor": 0
}
