{
 "cells": [
  {
   "cell_type": "code",
   "execution_count": null,
   "metadata": {
    "collapsed": false
   },
   "outputs": [],
   "source": [
    "from pandas.tools.plotting import scatter_matrix\n",
    "import pandas as pd\n",
    "import matplotlib.pyplot as plt\n",
    "from sklearn.decomposition import PCA\n",
    "from sklearn.cross_decomposition import PLSRegression as PLS\n",
    "import numpy as np\n",
    "%matplotlib inline\n",
    "\n",
    "df = pd.read_csv(\"wine.data.txt\", sep=\",\", skipinitialspace=True, skiprows=0, header=None).as_matrix()\n",
    "x = df[:,1:]\n",
    "Y = df[:,0]\n",
    "covr = np.cov(x.T,bias=1)\n",
    "w,v = np.linalg.eig(covr)\n",
    "print type(v)\n",
    "#w,v = zip(*sorted(zip(w, v),reverse=True))\n",
    "# eigenvalue plot\n",
    "plt.plot(np.arange(len(w)),w)\n",
    "plt.title(\"Eigenvalues\")\n",
    "plt.show()"
   ]
  },
  {
   "cell_type": "code",
   "execution_count": null,
   "metadata": {
    "collapsed": false
   },
   "outputs": [],
   "source": [
    "# first 3 pc\n",
    "print type(v)\n",
    "for i in range(3):\n",
    "    eigenv = w[i]\n",
    "    y = v[:,i]\n",
    "    print y\n",
    "    x = np.arange(len(y))\n",
    "    plt.stem(x, y, linefmt='b-', markerfmt='bo', basefmt='r-')\n",
    "    plt.title(eigenv)\n",
    "    plt.show()"
   ]
  },
  {
   "cell_type": "code",
   "execution_count": null,
   "metadata": {
    "collapsed": false
   },
   "outputs": [],
   "source": [
    "x = df[:,1:]\n",
    "pca = PCA(n_components=2)\n",
    "X_r = pca.fit(x).transform(x)\n",
    "target_names = [1,2,3]\n",
    "for c, i, target_name in zip(\"rgb\", target_names, target_names):\n",
    "    plt.scatter(X_r[Y == i, 0], X_r[Y == i, 1], c=c, label=target_name)\n",
    "plt.legend()\n",
    "plt.title('PCA of Wine')\n",
    "plt.show()"
   ]
  },
  {
   "cell_type": "code",
   "execution_count": null,
   "metadata": {
    "collapsed": true
   },
   "outputs": [],
   "source": []
  }
 ],
 "metadata": {
  "kernelspec": {
   "display_name": "Python 2",
   "language": "python",
   "name": "python2"
  },
  "language_info": {
   "codemirror_mode": {
    "name": "ipython",
    "version": 2
   },
   "file_extension": ".py",
   "mimetype": "text/x-python",
   "name": "python",
   "nbconvert_exporter": "python",
   "pygments_lexer": "ipython2",
   "version": "2.7.11"
  }
 },
 "nbformat": 4,
 "nbformat_minor": 0
}
