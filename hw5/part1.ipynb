{
 "cells": [
  {
   "cell_type": "code",
   "execution_count": 1,
   "metadata": {
    "collapsed": false
   },
   "outputs": [
    {
     "data": {
      "text/plain": [
       "array([[0, 0, 0, ..., 0, 0, 0],\n",
       "       [0, 0, 0, ..., 0, 0, 0],\n",
       "       [0, 0, 0, ..., 0, 0, 0],\n",
       "       ..., \n",
       "       [0, 0, 0, ..., 0, 0, 0],\n",
       "       [0, 0, 2, ..., 0, 0, 0],\n",
       "       [0, 0, 0, ..., 0, 0, 0]])"
      ]
     },
     "execution_count": 1,
     "metadata": {},
     "output_type": "execute_result"
    }
   ],
   "source": [
    "import numpy as np\n",
    "\n",
    "f = open('./docword.nips.txt', 'r')\n",
    "lines = f.readlines()\n",
    "\n",
    "doc_count = int(lines[0])\n",
    "word_num = int(lines[1])\n",
    "total_word_count = int(lines[2])\n",
    "\n",
    "i = 3\n",
    "output = [[0]*word_num for i in range(doc_count)]\n",
    "while i < len(lines):\n",
    "    line = lines[i].strip().split(' ')\n",
    "    doc_id = int(line[0])\n",
    "    word_id = int(line[1])\n",
    "    word_count = int(line[2])\n",
    "    output[doc_id-1][word_id-1] = word_count\n",
    "\n",
    "    i += 1\n",
    "\n",
    "output = np.array(output)\n",
    "output"
   ]
  },
  {
   "cell_type": "code",
   "execution_count": null,
   "metadata": {
    "collapsed": true
   },
   "outputs": [],
   "source": []
  }
 ],
 "metadata": {
  "kernelspec": {
   "display_name": "Python 2",
   "language": "python",
   "name": "python2"
  },
  "language_info": {
   "codemirror_mode": {
    "name": "ipython",
    "version": 2
   },
   "file_extension": ".py",
   "mimetype": "text/x-python",
   "name": "python",
   "nbconvert_exporter": "python",
   "pygments_lexer": "ipython2",
   "version": "2.7.11"
  }
 },
 "nbformat": 4,
 "nbformat_minor": 0
}
