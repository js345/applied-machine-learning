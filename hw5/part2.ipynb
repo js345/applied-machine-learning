{
 "cells": [
  {
   "cell_type": "code",
   "execution_count": null,
   "metadata": {
    "collapsed": true
   },
   "outputs": [],
   "source": [
    "from __future__ import division\n",
    "from PIL import Image\n",
    "import numpy as np\n",
    "import matplotlib.pyplot as plt\n",
    "\n",
    "\n",
    "class GaussianEM:\n",
    "\n",
    "    def __init__(self,file_name,segment_num=10):\n",
    "        # initialize data\n",
    "        self.image = Image.open(file_name)\n",
    "        self.pixels = self.image.load()\n",
    "        self.width = self.image.size[0]\n",
    "        self.height = self.image.size[1]\n",
    "        self.pixel_num = self.width * self.height\n",
    "        self.l = None\n",
    "        data = []\n",
    "        for i in range(self.image.size[0]):\n",
    "            for j in range(self.image.size[1]):\n",
    "                data.append(self.pixels[i,j])\n",
    "        self.X = np.array(data,dtype=np.float128)\n",
    "        # normalize data from 0 to 255 to 0 to 1\n",
    "        self.X /= 255\n",
    "        self.dim = len(data[0])\n",
    "        # init cluster num\n",
    "        self.segment_num = segment_num\n",
    "        # init pi vector with len segment_num\n",
    "        self.pi_s = np.random.dirichlet(np.ones(self.segment_num))\n",
    "        # init mu matrix with segment_num rows dim columns\n",
    "        self.mu = np.random.uniform(0,1,(self.segment_num,self.dim))\n",
    "\n",
    "    def e_step(self):\n",
    "        # init soft ws, pixel_num rows segment_num columns\n",
    "        self.w = np.zeros(shape=(self.pixel_num,self.segment_num))\n",
    "        # calculate exp((xi - muj) T (xi - muj)) * pi_j\n",
    "        self.x_mu = np.zeros(shape=(self.pixel_num,self.segment_num))\n",
    "        for i in range(self.pixel_num):\n",
    "            for j in range(self.segment_num):\n",
    "                residual = self.X[i] - self.mu[j]\n",
    "                self.x_mu[i][j] = np.exp(residual.dot(residual)*(-1/2)) * self.pi_s[j]\n",
    "        for i in range(self.pixel_num):\n",
    "            for j in range(self.segment_num):\n",
    "                self.w[i][j] = self.x_mu[i][j] / np.sum(self.x_mu[i])\n",
    "        # debug\n",
    "        print 'E step done'\n",
    "\n",
    "    def m_step(self):\n",
    "        for j in range(self.segment_num):\n",
    "            nom = np.zeros(self.dim)\n",
    "            denom = 0.0\n",
    "            for i in range(self.pixel_num):\n",
    "                nom += self.X[i] * self.w[i][j]\n",
    "                denom += self.w[i][j]\n",
    "            # update muj\n",
    "            self.mu[j] = nom / denom\n",
    "            # update pij\n",
    "            self.pi_s[j] = denom / self.pixel_num\n",
    "        # debug\n",
    "        print 'M step done'\n",
    "\n",
    "    def likelihood(self):\n",
    "        # calculate -1/2 (xi - muj) T (xi - muj) + log pi_j\n",
    "        x_mu = np.zeros(shape=(self.pixel_num,self.segment_num))\n",
    "        for i in range(self.pixel_num):\n",
    "            for j in range(self.segment_num):\n",
    "                residual = self.X[i] - self.mu[j]\n",
    "                x_mu[i][j] = residual.dot(residual)*(-1/2) * np.log(self.pi_s[j])\n",
    "        l = 0.0\n",
    "        for i in range(self.pixel_num):\n",
    "            for j in range(self.segment_num):\n",
    "                l += x_mu[i][j] * self.w[i][j]\n",
    "        return l\n",
    "\n",
    "    def em(self):\n",
    "        for i in range(10):\n",
    "            self.e_step()\n",
    "            self.m_step()\n",
    "            l = self.likelihood()\n",
    "            if self.l is not None:\n",
    "                print 'relative difference in likelihood'\n",
    "                relative = abs((l - self.l) / self.l)\n",
    "                print relative\n",
    "                if relative < 1e-6:\n",
    "                    break\n",
    "            self.l = l\n",
    "\n",
    "    def nearest(self):\n",
    "        result = np.zeros(self.pixel_num)\n",
    "        for i in range(self.pixel_num):\n",
    "            result[i] = self.w[i].argmax()\n",
    "        self.cluster = result\n",
    "        return result\n",
    "\n",
    "    def output(self):\n",
    "        for i in range(self.width):\n",
    "            for j in range(self.height):\n",
    "                index = i * self.height + j\n",
    "                pixel = self.mu[self.cluster[index]] * 255\n",
    "                self.pixels[i,j] = tuple(pixel.astype(int))\n",
    "        plt.imshow(em.image)\n",
    "        plt.show()"
   ]
  },
  {
   "cell_type": "code",
   "execution_count": null,
   "metadata": {
    "collapsed": false
   },
   "outputs": [],
   "source": [
    "em = GaussianEM(\"test_images/nature.jpg\",10)\n",
    "em.em()\n",
    "em.nearest()\n",
    "em.output()\n",
    "print em.mu"
   ]
  },
  {
   "cell_type": "code",
   "execution_count": null,
   "metadata": {
    "collapsed": false
   },
   "outputs": [],
   "source": [
    "em.nearest()"
   ]
  },
  {
   "cell_type": "code",
   "execution_count": null,
   "metadata": {
    "collapsed": false
   },
   "outputs": [],
   "source": [
    "for i in range(em.width):\n",
    "    for j in range(em.height):\n",
    "        index = i * em.height + j\n",
    "        pixel = em.mu[em.cluster[index]] * 255\n",
    "        em.pixels[i,j] = tuple(pixel.astype(int))\n",
    "plt.imshow(em.image)\n",
    "plt.show()"
   ]
  },
  {
   "cell_type": "code",
   "execution_count": null,
   "metadata": {
    "collapsed": true
   },
   "outputs": [],
   "source": []
  }
 ],
 "metadata": {
  "kernelspec": {
   "display_name": "Python 2",
   "language": "python",
   "name": "python2"
  },
  "language_info": {
   "codemirror_mode": {
    "name": "ipython",
    "version": 2
   },
   "file_extension": ".py",
   "mimetype": "text/x-python",
   "name": "python",
   "nbconvert_exporter": "python",
   "pygments_lexer": "ipython2",
   "version": "2.7.11"
  }
 },
 "nbformat": 4,
 "nbformat_minor": 0
}
